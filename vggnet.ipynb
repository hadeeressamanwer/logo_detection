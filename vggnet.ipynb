{
 "cells": [
  {
   "cell_type": "code",
   "execution_count": 1,
   "metadata": {},
   "outputs": [
    {
     "name": "stderr",
     "output_type": "stream",
     "text": [
      "Using TensorFlow backend.\n"
     ]
    }
   ],
   "source": [
    "from keras import backend as K\n",
    "K.clear_session()\n",
    "\n",
    "import keras\n",
    "from keras.preprocessing.image import ImageDataGenerator"
   ]
  },
  {
   "cell_type": "code",
   "execution_count": 2,
   "metadata": {},
   "outputs": [
    {
     "name": "stdout",
     "output_type": "stream",
     "text": [
      "Found 20059 images belonging to 42 classes.\n",
      "Found 5040 images belonging to 42 classes.\n"
     ]
    }
   ],
   "source": [
    "train_datagen = ImageDataGenerator(rescale=1./255,\n",
    "                                   shear_range=0.2,\n",
    "                                   zoom_range=0.2,\n",
    "                                   horizontal_flip=True)\n",
    "validation_datagen = ImageDataGenerator(rescale=1./255)\n",
    "train_generator = train_datagen.flow_from_directory('./logo/train',\n",
    "                                                   target_size=(64, 64),\n",
    "                                                   batch_size=32,\n",
    "                                                   class_mode='categorical')\n",
    "validation_generator = validation_datagen.flow_from_directory('./logo/val',\n",
    "                                                             target_size=(64, 64),\n",
    "                                                             batch_size=32,\n",
    "                                                             class_mode='categorical')"
   ]
  },
  {
   "cell_type": "code",
   "execution_count": 3,
   "metadata": {
    "collapsed": true
   },
   "outputs": [],
   "source": [
    "from keras.models import Sequential\n",
    "from keras.layers import Dense, Dropout, Flatten\n",
    "from keras.layers import Conv2D, MaxPooling2D, Activation\n",
    "from keras.layers.normalization import BatchNormalization"
   ]
  },
  {
   "cell_type": "code",
   "execution_count": 4,
   "metadata": {
    "collapsed": true
   },
   "outputs": [],
   "source": [
    "num_classes = 42\n",
    "epochs = 20\n",
    "input_shape = (64, 64, 3)\n",
    "\n",
    "# input image dimensions\n",
    "img_rows, img_cols = 64, 64\n",
    "\n",
    "model = Sequential()\n",
    "\n",
    "model.add(Conv2D(64, (3, 3), padding='same', input_shape=input_shape))\n",
    "model.add(BatchNormalization())\n",
    "model.add(Activation('relu'))\n",
    "model.add(Conv2D(64, (3, 3), padding='same'))\n",
    "model.add(BatchNormalization())\n",
    "model.add(Activation('relu'))\n",
    "model.add(MaxPooling2D(pool_size=(2,2)))\n",
    "\n",
    "model.add(Conv2D(128, (3, 3), padding='same'))\n",
    "model.add(BatchNormalization())\n",
    "model.add(Activation('relu'))\n",
    "model.add(Conv2D(128, (3, 3), padding='same'))\n",
    "model.add(BatchNormalization())\n",
    "model.add(Activation('relu'))\n",
    "model.add(MaxPooling2D(pool_size=(2,2)))\n",
    "\n",
    "model.add(Conv2D(256, (3, 3), padding='same'))\n",
    "model.add(BatchNormalization())\n",
    "model.add(Activation('relu'))\n",
    "model.add(Conv2D(256, (3, 3), padding='same'))\n",
    "model.add(BatchNormalization())\n",
    "model.add(Activation('relu'))\n",
    "model.add(Conv2D(256, (3, 3), padding='same'))\n",
    "model.add(BatchNormalization())\n",
    "model.add(Activation('relu'))\n",
    "model.add(MaxPooling2D(pool_size=(2,2)))\n",
    "\n",
    "model.add(Conv2D(512, (3, 3), padding='same'))\n",
    "model.add(BatchNormalization())\n",
    "model.add(Activation('relu'))\n",
    "model.add(Conv2D(512, (3, 3), padding='same'))\n",
    "model.add(BatchNormalization())\n",
    "model.add(Activation('relu'))\n",
    "model.add(Conv2D(512, (3, 3), padding='same'))\n",
    "model.add(BatchNormalization())\n",
    "model.add(Activation('relu'))\n",
    "model.add(MaxPooling2D(pool_size=(2,2)))\n",
    "\n",
    "model.add(Flatten())\n",
    "model.add(Dense(2048))\n",
    "model.add(BatchNormalization())\n",
    "model.add(Activation('relu'))\n",
    "#model.add(Dropout(0.5))\n",
    "\n",
    "model.add(Dense(2048))\n",
    "model.add(BatchNormalization())\n",
    "model.add(Activation('relu'))\n",
    "#model.add(Dropout(0.5))\n",
    "\n",
    "model.add(Dense(num_classes))\n",
    "model.add(Activation('softmax'))\n",
    "\n",
    "model.compile(loss=keras.losses.categorical_crossentropy,\n",
    "              optimizer=keras.optimizers.Adadelta(),\n",
    "              metrics=['accuracy'])"
   ]
  },
  {
   "cell_type": "code",
   "execution_count": 5,
   "metadata": {},
   "outputs": [
    {
     "name": "stdout",
     "output_type": "stream",
     "text": [
      "Epoch 1/20\n",
      "628/628 [==============================] - 589s - loss: 1.1990 - acc: 0.6844 - val_loss: 0.4216 - val_acc: 0.8878\n",
      "Epoch 2/20\n",
      "628/628 [==============================] - 582s - loss: 0.3887 - acc: 0.8922 - val_loss: 0.3285 - val_acc: 0.9260\n",
      "Epoch 3/20\n",
      "628/628 [==============================] - 582s - loss: 0.2490 - acc: 0.9304 - val_loss: 0.2065 - val_acc: 0.9457\n",
      "Epoch 4/20\n",
      "628/628 [==============================] - 582s - loss: 0.1817 - acc: 0.9496 - val_loss: 0.1062 - val_acc: 0.9755\n",
      "Epoch 5/20\n",
      "628/628 [==============================] - 581s - loss: 0.1519 - acc: 0.9596 - val_loss: 0.1824 - val_acc: 0.9572\n",
      "Epoch 6/20\n",
      "628/628 [==============================] - 582s - loss: 0.1224 - acc: 0.9655 - val_loss: 0.1117 - val_acc: 0.9783\n",
      "Epoch 7/20\n",
      "628/628 [==============================] - 582s - loss: 0.1053 - acc: 0.9711 - val_loss: 0.1113 - val_acc: 0.9797\n",
      "Epoch 8/20\n",
      "628/628 [==============================] - 582s - loss: 0.0903 - acc: 0.9738 - val_loss: 0.1104 - val_acc: 0.9745\n",
      "Epoch 9/20\n",
      "628/628 [==============================] - 582s - loss: 0.0735 - acc: 0.9795 - val_loss: 0.1014 - val_acc: 0.9831\n",
      "Epoch 10/20\n",
      "628/628 [==============================] - 581s - loss: 0.0713 - acc: 0.9801 - val_loss: 0.1056 - val_acc: 0.9819\n",
      "Epoch 11/20\n",
      "628/628 [==============================] - 582s - loss: 0.0576 - acc: 0.9842 - val_loss: 0.1028 - val_acc: 0.9815\n",
      "Epoch 12/20\n",
      "628/628 [==============================] - 580s - loss: 0.0560 - acc: 0.9840 - val_loss: 0.1128 - val_acc: 0.9765\n",
      "Epoch 13/20\n",
      "628/628 [==============================] - 580s - loss: 0.0456 - acc: 0.9869 - val_loss: 0.1271 - val_acc: 0.9779\n",
      "Epoch 14/20\n",
      "628/628 [==============================] - 581s - loss: 0.0416 - acc: 0.9881 - val_loss: 0.1039 - val_acc: 0.9823\n",
      "Epoch 15/20\n",
      "628/628 [==============================] - 581s - loss: 0.0352 - acc: 0.9901 - val_loss: 0.1104 - val_acc: 0.9859\n",
      "Epoch 16/20\n",
      "628/628 [==============================] - 581s - loss: 0.0380 - acc: 0.9893 - val_loss: 0.1140 - val_acc: 0.9815\n",
      "Epoch 17/20\n",
      "628/628 [==============================] - 581s - loss: 0.0328 - acc: 0.9904 - val_loss: 0.0858 - val_acc: 0.9853\n",
      "Epoch 18/20\n",
      "628/628 [==============================] - 581s - loss: 0.0288 - acc: 0.9914 - val_loss: 0.1043 - val_acc: 0.9849\n",
      "Epoch 19/20\n",
      "628/628 [==============================] - 581s - loss: 0.0271 - acc: 0.9920 - val_loss: 0.1080 - val_acc: 0.9823\n",
      "Epoch 20/20\n",
      "628/628 [==============================] - 581s - loss: 0.0267 - acc: 0.9920 - val_loss: 0.1008 - val_acc: 0.9847\n"
     ]
    },
    {
     "data": {
      "text/plain": [
       "<keras.callbacks.History at 0x270a574b320>"
      ]
     },
     "execution_count": 5,
     "metadata": {},
     "output_type": "execute_result"
    }
   ],
   "source": [
    "model.fit_generator(train_generator,\n",
    "                    steps_per_epoch=628,\n",
    "                    epochs=epochs,\n",
    "                    validation_data=validation_generator,\n",
    "                    validation_steps=156)"
   ]
  }
 ],
 "metadata": {
  "kernelspec": {
   "display_name": "Python 3",
   "language": "python",
   "name": "python3"
  },
  "language_info": {
   "codemirror_mode": {
    "name": "ipython",
    "version": 3
   },
   "file_extension": ".py",
   "mimetype": "text/x-python",
   "name": "python",
   "nbconvert_exporter": "python",
   "pygments_lexer": "ipython3",
   "version": "3.6.1"
  }
 },
 "nbformat": 4,
 "nbformat_minor": 2
}
