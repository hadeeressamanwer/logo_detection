{
 "cells": [
  {
   "cell_type": "code",
   "execution_count": 1,
   "metadata": {},
   "outputs": [
    {
     "name": "stderr",
     "output_type": "stream",
     "text": [
      "Using TensorFlow backend.\n"
     ]
    }
   ],
   "source": [
    "from keras import backend as K\n",
    "K.clear_session()\n",
    "\n",
    "import keras\n",
    "from keras.preprocessing.image import ImageDataGenerator"
   ]
  },
  {
   "cell_type": "code",
   "execution_count": 2,
   "metadata": {},
   "outputs": [
    {
     "name": "stdout",
     "output_type": "stream",
     "text": [
      "Found 20059 images belonging to 42 classes.\n",
      "Found 5040 images belonging to 42 classes.\n"
     ]
    }
   ],
   "source": [
    "train_datagen = ImageDataGenerator(rescale=1./255,\n",
    "                                   shear_range=0.2,\n",
    "                                   zoom_range=0.2,\n",
    "                                   horizontal_flip=True)\n",
    "validation_datagen = ImageDataGenerator(rescale=1./255)\n",
    "train_generator = train_datagen.flow_from_directory('./logo/train',\n",
    "                                                   target_size=(64, 64),\n",
    "                                                   batch_size=128,\n",
    "                                                   class_mode='categorical')\n",
    "validation_generator = validation_datagen.flow_from_directory('./logo/val',\n",
    "                                                             target_size=(64, 64),\n",
    "                                                             batch_size=128,\n",
    "                                                             class_mode='categorical')"
   ]
  },
  {
   "cell_type": "code",
   "execution_count": 3,
   "metadata": {
    "collapsed": true
   },
   "outputs": [],
   "source": [
    "from keras.models import Sequential\n",
    "from keras.layers import Dense, Dropout, Flatten\n",
    "from keras.layers import Conv2D, MaxPooling2D, Activation\n",
    "from keras.layers.normalization import BatchNormalization"
   ]
  },
  {
   "cell_type": "code",
   "execution_count": 4,
   "metadata": {
    "collapsed": true
   },
   "outputs": [],
   "source": [
    "num_classes = 42\n",
    "epochs = 20\n",
    "input_shape = (64, 64, 3)\n",
    "\n",
    "# input image dimensions\n",
    "img_rows, img_cols = 64, 64\n",
    "\n",
    "model = Sequential()\n",
    "\n",
    "model.add(Conv2D(32, (3, 3), padding='same', input_shape=input_shape))\n",
    "model.add(BatchNormalization())\n",
    "model.add(Activation('relu'))\n",
    "model.add(MaxPooling2D(pool_size=(2, 2)))\n",
    "\n",
    "model.add(Conv2D(32, (3, 3)))\n",
    "model.add(BatchNormalization())\n",
    "model.add(Activation('relu'))\n",
    "model.add(MaxPooling2D(pool_size=(2, 2)))\n",
    "#model.add(Dropout(0.25))\n",
    "\n",
    "model.add(Conv2D(64, (3, 3), padding='same'))\n",
    "model.add(BatchNormalization())\n",
    "model.add(Activation('relu'))\n",
    "\n",
    "model.add(Conv2D(64, (3, 3)))\n",
    "model.add(BatchNormalization())\n",
    "model.add(Activation('relu'))\n",
    "model.add(MaxPooling2D(pool_size=(2, 2)))\n",
    "#model.add(Dropout(0.25))\n",
    "\n",
    "model.add(Flatten())\n",
    "model.add(Dense(512))\n",
    "model.add(BatchNormalization())\n",
    "model.add(Activation('relu'))\n",
    "#model.add(Dropout(0.5))\n",
    "\n",
    "model.add(Dense(num_classes))\n",
    "model.add(Activation('softmax'))\n",
    "\n",
    "model.compile(loss=keras.losses.categorical_crossentropy,\n",
    "              optimizer=keras.optimizers.Adadelta(),\n",
    "              metrics=['accuracy'])"
   ]
  },
  {
   "cell_type": "code",
   "execution_count": 5,
   "metadata": {},
   "outputs": [
    {
     "name": "stdout",
     "output_type": "stream",
     "text": [
      "Epoch 1/20\n",
      "157/157 [==============================] - 56s - loss: 1.5240 - acc: 0.6241 - val_loss: 2.7809 - val_acc: 0.2927\n",
      "Epoch 2/20\n",
      "157/157 [==============================] - 54s - loss: 0.7475 - acc: 0.8094 - val_loss: 1.4021 - val_acc: 0.6616\n",
      "Epoch 3/20\n",
      "157/157 [==============================] - 56s - loss: 0.5258 - acc: 0.8692 - val_loss: 0.5512 - val_acc: 0.8628\n",
      "Epoch 4/20\n",
      "157/157 [==============================] - 58s - loss: 0.4088 - acc: 0.8956 - val_loss: 0.3007 - val_acc: 0.9273\n",
      "Epoch 5/20\n",
      "157/157 [==============================] - 57s - loss: 0.3290 - acc: 0.9165 - val_loss: 0.3020 - val_acc: 0.9212\n",
      "Epoch 6/20\n",
      "157/157 [==============================] - 72s - loss: 0.2756 - acc: 0.9314 - val_loss: 0.2222 - val_acc: 0.9454\n",
      "Epoch 7/20\n",
      "157/157 [==============================] - 57s - loss: 0.2367 - acc: 0.9404 - val_loss: 0.2056 - val_acc: 0.9499\n",
      "Epoch 8/20\n",
      "157/157 [==============================] - 57s - loss: 0.2035 - acc: 0.9483 - val_loss: 0.2184 - val_acc: 0.9461\n",
      "Epoch 9/20\n",
      "157/157 [==============================] - 58s - loss: 0.1795 - acc: 0.9563 - val_loss: 0.1838 - val_acc: 0.9562\n",
      "Epoch 10/20\n",
      "157/157 [==============================] - 62s - loss: 0.1656 - acc: 0.9584 - val_loss: 0.2059 - val_acc: 0.9501\n",
      "Epoch 11/20\n",
      "157/157 [==============================] - 66s - loss: 0.1473 - acc: 0.9639 - val_loss: 0.1864 - val_acc: 0.9560\n",
      "Epoch 12/20\n",
      "157/157 [==============================] - 67s - loss: 0.1252 - acc: 0.9696 - val_loss: 0.1772 - val_acc: 0.9570\n",
      "Epoch 13/20\n",
      "157/157 [==============================] - 57s - loss: 0.1109 - acc: 0.9728 - val_loss: 0.1573 - val_acc: 0.9621\n",
      "Epoch 14/20\n",
      "157/157 [==============================] - 57s - loss: 0.1066 - acc: 0.9741 - val_loss: 0.1506 - val_acc: 0.9642\n",
      "Epoch 15/20\n",
      "157/157 [==============================] - 59s - loss: 0.0945 - acc: 0.9767 - val_loss: 0.1628 - val_acc: 0.9615\n",
      "Epoch 16/20\n",
      "157/157 [==============================] - 60s - loss: 0.0847 - acc: 0.9793 - val_loss: 0.1613 - val_acc: 0.9629\n",
      "Epoch 17/20\n",
      "157/157 [==============================] - 63s - loss: 0.0764 - acc: 0.9820 - val_loss: 0.1420 - val_acc: 0.9707\n",
      "Epoch 18/20\n",
      "157/157 [==============================] - 61s - loss: 0.0725 - acc: 0.9827 - val_loss: 0.1539 - val_acc: 0.9640\n",
      "Epoch 19/20\n",
      "157/157 [==============================] - 58s - loss: 0.0627 - acc: 0.9851 - val_loss: 0.1785 - val_acc: 0.9601\n",
      "Epoch 20/20\n",
      "157/157 [==============================] - 59s - loss: 0.0593 - acc: 0.9858 - val_loss: 0.1465 - val_acc: 0.9650\n"
     ]
    },
    {
     "data": {
      "text/plain": [
       "<keras.callbacks.History at 0x12ea151c080>"
      ]
     },
     "execution_count": 5,
     "metadata": {},
     "output_type": "execute_result"
    }
   ],
   "source": [
    "model.fit_generator(train_generator,\n",
    "                    steps_per_epoch=157,\n",
    "                    epochs=epochs,\n",
    "                    validation_data=validation_generator,\n",
    "                    validation_steps=39)"
   ]
  }
 ],
 "metadata": {
  "kernelspec": {
   "display_name": "Python 3",
   "language": "python",
   "name": "python3"
  },
  "language_info": {
   "codemirror_mode": {
    "name": "ipython",
    "version": 3
   },
   "file_extension": ".py",
   "mimetype": "text/x-python",
   "name": "python",
   "nbconvert_exporter": "python",
   "pygments_lexer": "ipython3",
   "version": "3.6.1"
  }
 },
 "nbformat": 4,
 "nbformat_minor": 2
}
